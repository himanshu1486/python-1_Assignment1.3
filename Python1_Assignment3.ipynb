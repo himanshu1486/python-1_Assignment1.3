{
 "cells": [
  {
   "cell_type": "code",
   "execution_count": 5,
   "metadata": {},
   "outputs": [
    {
     "name": "stdout",
     "output_type": "stream",
     "text": [
      "Please Type your first name : himanshu\n",
      "Please type your last name : parashar\n",
      "Hello parashar himanshu\n"
     ]
    },
    {
     "data": {
      "text/plain": [
       "'rahsarap uhsnamih'"
      ]
     },
     "execution_count": 5,
     "metadata": {},
     "output_type": "execute_result"
    }
   ],
   "source": [
    "firstname = input(\"Please Type your first name : \")\n",
    "lastName = input(\"Please type your last name : \")\n",
    "\n",
    "fName = firstname\n",
    "lName = lastName\n",
    "\n",
    "print(\"Hello \" + lastName + \" \" + firstname)\n",
    "\n",
    "def reverse_string1(s):\n",
    "    return s[::-1]\n",
    "\n",
    "reverse_string1(lName) + \" \" + reverse_string1(fName)\n",
    "\n"
   ]
  }
 ],
 "metadata": {
  "kernelspec": {
   "display_name": "Python 3",
   "language": "python",
   "name": "python3"
  },
  "language_info": {
   "codemirror_mode": {
    "name": "ipython",
    "version": 3
   },
   "file_extension": ".py",
   "mimetype": "text/x-python",
   "name": "python",
   "nbconvert_exporter": "python",
   "pygments_lexer": "ipython3",
   "version": "3.6.4"
  }
 },
 "nbformat": 4,
 "nbformat_minor": 2
}
